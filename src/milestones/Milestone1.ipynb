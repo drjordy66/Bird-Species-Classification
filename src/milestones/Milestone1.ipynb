{
 "cells": [
  {
   "cell_type": "markdown",
   "metadata": {},
   "source": [
    "# Dane Jordan"
   ]
  },
  {
   "cell_type": "markdown",
   "metadata": {},
   "source": [
    "## Homework 4 Data Competition Milestones"
   ]
  },
  {
   "cell_type": "code",
   "execution_count": 1,
   "metadata": {
    "collapsed": true
   },
   "outputs": [],
   "source": [
    "import matplotlib.pyplot as plt\n",
    "import numpy as np\n",
    "import pandas as pd\n",
    "import pickle\n",
    "import urllib.request\n",
    "\n",
    "from IPython.core.interactiveshell import InteractiveShell\n",
    "from sklearn.linear_model import LogisticRegressionCV\n",
    "from sklearn.model_selection import train_test_split\n",
    "from sklearn.preprocessing import StandardScaler\n",
    "\n",
    "InteractiveShell.ast_node_interactivity = \"all\"\n",
    "%matplotlib inline"
   ]
  },
  {
   "cell_type": "code",
   "execution_count": 2,
   "metadata": {
    "collapsed": true
   },
   "outputs": [],
   "source": [
    "def computeobj(beta, lamb, x, y):\n",
    "    # number of observations\n",
    "    n = x.shape[0]\n",
    "    \n",
    "    # compute objective function\n",
    "    obj = (1/n)*(np.sum(np.log(1 + np.exp(-y*np.dot(x, beta))))) + lamb*np.sum(beta**2)\n",
    "    \n",
    "    return obj\n",
    "\n",
    "\n",
    "def computegrad(beta, lamb, x, y):\n",
    "    # number of observations\n",
    "    n = x.shape[0]\n",
    "    \n",
    "    # compute gradient of objective function\n",
    "    grad_beta = -(1/n)*(np.dot(x.T, y/(np.exp(y*np.dot(x, beta)) + 1))) + 2*lamb*beta\n",
    "    \n",
    "    return grad_beta\n",
    "\n",
    "\n",
    "def backtracking(beta, lamb, x, y, eta=1, alpha=0.5, gamma=0.8, max_iter=100):\n",
    "    # initialize variables\n",
    "    grad_beta = computegrad(beta, lamb, x, y)\n",
    "    norm_grad_beta = np.sqrt(np.sum(grad_beta**2))\n",
    "    found_eta = 0\n",
    "    t = 0\n",
    "    \n",
    "    # loop through until eta found or max iterations reached\n",
    "    while found_eta == 0 and t < max_iter:\n",
    "        if (computeobj(beta - eta*grad_beta, lamb, x, y) <\n",
    "                computeobj(beta, lamb, x, y) - alpha*eta*norm_grad_beta**2):\n",
    "            found_eta = 1\n",
    "        elif t == max_iter:\n",
    "            break\n",
    "        else:\n",
    "            eta = eta*gamma\n",
    "            t += 1\n",
    "    \n",
    "    return eta\n",
    "\n",
    "\n",
    "def fastgradalgo(beta_init, theta_init, lamb, x, y, max_iter, eps):\n",
    "    # initialize variables\n",
    "    beta = beta_init\n",
    "    theta = theta_init\n",
    "    grad_theta = computegrad(theta, lamb, x, y)\n",
    "    eta_init = 1/(max(np.linalg.eigh(np.dot((1/n)*x.T, x))[0]) + lamb)\n",
    "    beta_vals = [beta_init]\n",
    "    t = 0\n",
    "    \n",
    "    # loop through until EITHER max iterations reached or threshold of epsilon reached\n",
    "    while t < max_iter and np.linalg.norm(grad_theta) >  eps:\n",
    "        eta = backtracking(beta, lamb, x, y, eta=eta_init)\n",
    "        beta_next = theta - eta*grad_theta\n",
    "        theta = beta_next + t*(beta_next - beta)/(t + 3)\n",
    "        grad_theta = computegrad(theta, lamb, x, y)\n",
    "        beta = beta_next\n",
    "        beta_vals.append(beta)\n",
    "        t += 1\n",
    "        \n",
    "    return beta_vals"
   ]
  },
  {
   "cell_type": "markdown",
   "metadata": {},
   "source": [
    "- Pick two classes of your choice from the dataset. Train an $\\ell_2^2$-regularized logistic regression classiﬁer on the training set using your own fast gradient algorithm with $\\lambda=1$. Plot, with diﬀerent colors, the _misclassiﬁcation error_ on the training set and on the validation set vs iterations."
   ]
  },
  {
   "cell_type": "code",
   "execution_count": 3,
   "metadata": {},
   "outputs": [],
   "source": [
    "# load training data\n",
    "x = pickle.load(urllib.request.urlopen('https://s3.amazonaws.com/stat558drjordankaggle/train_features'))\n",
    "y = np.array(pickle.load(urllib.request.urlopen('https://s3.amazonaws.com/stat558drjordankaggle/train_labels')))\n",
    "y = y.astype(float)\n",
    "\n",
    "# subset the data for the first two classes\n",
    "index = np.argwhere([y == 42, y == 112])\n",
    "x_subset = x[index[:, 1]]\n",
    "y_subset = y[index[: ,1]]\n",
    "y_subset[y_subset == 42] = -1\n",
    "y_subset[y_subset == 112] = 1\n",
    "\n",
    "# split into train and test sets\n",
    "x_train, x_test, y_train, y_test = train_test_split(x_subset, y_subset, random_state=0)\n",
    "\n",
    "# center and standardize x values\n",
    "x_scaler = StandardScaler().fit(x_train)\n",
    "x_train = x_scaler.transform(x_train)\n",
    "x_test = x_scaler.transform(x_test)\n",
    "\n",
    "# dimensional data\n",
    "n = x_train.shape[0]\n",
    "d = x_train.shape[1]\n",
    "\n",
    "# initialize betas and thetas\n",
    "beta_init = np.zeros(d)\n",
    "theta_init = np.zeros(d)"
   ]
  },
  {
   "cell_type": "code",
   "execution_count": 4,
   "metadata": {},
   "outputs": [
    {
     "data": {
      "image/png": "[encoded data removed]",
      "text/plain": [
       "<matplotlib.figure.Figure at 0x236da9bbcc0>"
      ]
     },
     "metadata": {},
     "output_type": "display_data"
    }
   ],
   "source": [
    "# train logistic regression with fast gradient algorithm (lambda = 1)\n",
    "betas = fastgradalgo(beta_init=beta_init, theta_init=theta_init, lamb=1, x=x_train, y=y_train, max_iter=1000, eps=1e-5) \n",
    "\n",
    "# loop through betas and plot misclassification error\n",
    "misclass_train = []\n",
    "misclass_test = []\n",
    "\n",
    "for i in range(len(betas)):\n",
    "    y_predict_train = np.dot(x_train, betas[i])\n",
    "    y_predict_test = np.dot(x_test, betas[i])\n",
    "    y_predict_train[y_predict_train >= 0] = 1\n",
    "    y_predict_train[y_predict_train < 0] = -1\n",
    "    y_predict_test[y_predict_test >= 0] = 1\n",
    "    y_predict_test[y_predict_test < 0] = -1\n",
    "    misclass_train.append(np.mean(y_predict_train != y_train)*100)\n",
    "    misclass_test.append(np.mean(y_predict_test != y_test)*100)\n",
    "\n",
    "# generate plots\n",
    "plt.plot(misclass_train);\n",
    "plt.plot(misclass_test);\n",
    "plt.legend(['train', 'test']);\n",
    "plt.xlabel('Iteration');\n",
    "plt.ylabel('Misclassification Error');"
   ]
  },
  {
   "cell_type": "markdown",
   "metadata": {},
   "source": [
    "- Find the value of the regularization parameter $\\lambda$ using cross-validation; you may use scikit-learn’s built-in functions for this purpose. Train an $\\ell_2^2$-regularized logistic regression classiﬁer on the training set using your own fast gradient algorithm with that value of $\\lambda$ found by cross-validation. Plot, with diﬀerent colors, the _misclassiﬁcation error_ on the training set and on the validation set vs iterations."
   ]
  },
  {
   "cell_type": "code",
   "execution_count": 5,
   "metadata": {},
   "outputs": [
    {
     "data": {
      "image/png": "[encoded data removed]",
      "text/plain": [
       "<matplotlib.figure.Figure at 0x236e4872320>"
      ]
     },
     "metadata": {},
     "output_type": "display_data"
    }
   ],
   "source": [
    "# use sklearn to find optimal lambda\n",
    "logitCV = LogisticRegressionCV(fit_intercept=False, max_iter=1000).fit(x_train, y_train)\n",
    "opt_lamb = logitCV.C_\n",
    "\n",
    "# train logistic regression with fast gradient algorithm (lambda = optimal lambda = 0.0001)\n",
    "betas = fastgradalgo(beta_init=beta_init, theta_init=theta_init, lamb=opt_lamb, x=x_train, y=y_train, max_iter=1000, eps=1e-5) \n",
    "\n",
    "# loop through betas and plot misclassification error\n",
    "misclass_train = []\n",
    "misclass_test = []\n",
    "\n",
    "for i in range(len(betas)):\n",
    "    y_predict_train = np.dot(x_train, betas[i])\n",
    "    y_predict_test = np.dot(x_test, betas[i])\n",
    "    y_predict_train[y_predict_train >= 0] = 1\n",
    "    y_predict_train[y_predict_train < 0] = -1\n",
    "    y_predict_test[y_predict_test >= 0] = 1\n",
    "    y_predict_test[y_predict_test < 0] = -1\n",
    "    misclass_train.append(np.mean(y_predict_train != y_train)*100)\n",
    "    misclass_test.append(np.mean(y_predict_test != y_test)*100)\n",
    "\n",
    "# generate plots\n",
    "plt.plot(misclass_train);\n",
    "plt.plot(misclass_test);\n",
    "plt.legend(['train', 'test']);\n",
    "plt.xlabel('Iteration');\n",
    "plt.ylabel('Misclassification Error');"
   ]
  },
  {
   "cell_type": "code",
   "execution_count": null,
   "metadata": {
    "collapsed": true
   },
   "outputs": [],
   "source": []
  }
 ],
 "metadata": {
  "kernelspec": {
   "display_name": "Python 3",
   "language": "python",
   "name": "python3"
  },
  "language_info": {
   "codemirror_mode": {
    "name": "ipython",
    "version": 3
   },
   "file_extension": ".py",
   "mimetype": "text/x-python",
   "name": "python",
   "nbconvert_exporter": "python",
   "pygments_lexer": "ipython3",
   "version": "3.5.2"
  }
 },
 "nbformat": 4,
 "nbformat_minor": 1
}
